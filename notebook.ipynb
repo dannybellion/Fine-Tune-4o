{
 "cells": [
  {
   "cell_type": "markdown",
   "metadata": {},
   "source": [
    "# Fine Tune GPT-4o-mini\n",
    "\n",
    "1. Create a dataset of customer service questions and answers\n",
    "2. Fine tune GPT-4o-mini on the dataset\n",
    "3. Evaluate the fine tuned model\n",
    "4. Compare the fine tuned model to the base model\n"
   ]
  },
  {
   "cell_type": "markdown",
   "metadata": {},
   "source": [
    "### Model Training"
   ]
  },
  {
   "cell_type": "code",
   "execution_count": 2,
   "metadata": {},
   "outputs": [],
   "source": [
    "from src import FineTuner\n",
    "\n",
    "fine_tune = FineTuner()"
   ]
  },
  {
   "cell_type": "code",
   "execution_count": null,
   "metadata": {},
   "outputs": [],
   "source": [
    "file_id = fine_tune.upload_training_file('data/training_data.jsonl')"
   ]
  },
  {
   "cell_type": "code",
   "execution_count": null,
   "metadata": {},
   "outputs": [],
   "source": [
    "job_id = fine_tune.create_job(training_file=file_id, model='gpt-4o-mini-2024-07-18')"
   ]
  },
  {
   "cell_type": "code",
   "execution_count": null,
   "metadata": {},
   "outputs": [],
   "source": [
    "import time\n",
    "\n",
    "status = fine_tune.get_job_status(job_id)\n",
    "\n",
    "print(status)\n",
    "\n",
    "# while status.status != 'succeeded':\n",
    "#     status = fine_tune.get_job_status(job_id)\n",
    "#     print(f\"Job status: {status.status}\")\n",
    "#     time.sleep(10)"
   ]
  },
  {
   "cell_type": "code",
   "execution_count": null,
   "metadata": {},
   "outputs": [],
   "source": [
    "fine_tune.wait_for_job(job_id)"
   ]
  },
  {
   "cell_type": "code",
   "execution_count": null,
   "metadata": {},
   "outputs": [],
   "source": [
    "df = fine_tune.get_training_metrics(job_id)\n",
    "\n",
    "fine_tune.plot_training_metrics(job_id)"
   ]
  },
  {
   "cell_type": "markdown",
   "metadata": {},
   "source": []
  },
  {
   "cell_type": "code",
   "execution_count": null,
   "metadata": {},
   "outputs": [],
   "source": [
    "from models import Models\n",
    "import pandas as pd\n",
    "from tqdm import tqdm\n",
    "\n",
    "test_questions = [\n",
    "    \"I'm being charged by a merchant located overseas, but I've never visited or shopped there. Can I dispute these charges?\",\n",
    "    \"My purchase arrived damaged, and the seller won't offer a replacement. Should I dispute the transaction?\",\n",
    "    \"I found two identical charges for one service in my statement. What are my options to dispute the duplicate?\",\n",
    "    \"I canceled a flight, but the airline still charged me. How do I begin a dispute?\",\n",
    "    \"My card details were used to pay for someone else's subscription. How can I report and dispute this?\",\n",
    "    \"The merchant promised a refund but hasn't issued it yet. Should I start a dispute now?\",\n",
    "    \"I ordered an item online, but it arrived weeks late and in poor condition. Do I have grounds for a dispute?\",\n",
    "    \"My credit card shows repeated small charges I didn't authorize. How do I handle these?\",\n",
    "    \"I received a completely different product than what was advertised. Should I dispute the charge immediately?\",\n",
    "    \"The merchant says the transaction is valid, but I don't recognize it at all. Can I still dispute it?\",\n",
    "]\n",
    "\n",
    "df = pd.DataFrame(test_questions, columns=[\"question\"])\n",
    "\n",
    "models = Models()\n",
    "\n",
    "base_responses = []\n",
    "ft_responses = []\n",
    "\n",
    "for question in tqdm(test_questions, desc=\"Processing questions\"):\n",
    "    base_response = models.customer_service_chat(\n",
    "        user = question, \n",
    "        model=\"gpt-4o-mini\"\n",
    "    )\n",
    "    ft_response = models.customer_service_chat(\n",
    "        user = question, \n",
    "        model=\"ft:gpt-4o-mini-2024-07-18:capital-on-tap:v1:Aj5rXiEu\"\n",
    "    )\n",
    "\n",
    "    base_responses.append(base_response)\n",
    "    ft_responses.append(ft_response)\n",
    "\n",
    "df[\"base_response\"] = base_responses\n",
    "df[\"ft_response\"] = ft_responses\n",
    "\n",
    "# Set display options for better readability\n",
    "pd.set_option('display.max_colwidth', 500)\n"
   ]
  }
 ],
 "metadata": {
  "kernelspec": {
   "display_name": ".venv",
   "language": "python",
   "name": "python3"
  },
  "language_info": {
   "codemirror_mode": {
    "name": "ipython",
    "version": 3
   },
   "file_extension": ".py",
   "mimetype": "text/x-python",
   "name": "python",
   "nbconvert_exporter": "python",
   "pygments_lexer": "ipython3",
   "version": "3.11.9"
  }
 },
 "nbformat": 4,
 "nbformat_minor": 2
}
